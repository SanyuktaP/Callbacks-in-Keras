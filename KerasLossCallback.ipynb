{
  "nbformat": 4,
  "nbformat_minor": 0,
  "metadata": {
    "colab": {
      "name": "KerasLossCallback.ipynb",
      "provenance": [],
      "collapsed_sections": []
    },
    "kernelspec": {
      "name": "python3",
      "display_name": "Python 3"
    },
    "language_info": {
      "name": "python"
    }
  },
  "cells": [
    {
      "cell_type": "code",
      "execution_count": 1,
      "metadata": {
        "id": "WVe0KPBY2POj"
      },
      "outputs": [],
      "source": [
        "#Using callbacks to control Training"
      ]
    },
    {
      "cell_type": "code",
      "source": [
        "import tensorflow as tf\n",
        "from tensorflow import keras"
      ],
      "metadata": {
        "id": "0aS1EFuD2sph"
      },
      "execution_count": 2,
      "outputs": []
    },
    {
      "cell_type": "code",
      "source": [
        "#Making use of Fashion Mnist dataset from keras to understand callback\n",
        "\n",
        "fmnist=tf.keras.datasets.fashion_mnist\n",
        "\n",
        "#Splitting data into training and testing\n",
        "(training_images,training_labels),(test_images,test_labels)=fmnist.load_data()\n",
        "\n",
        "#Normalisation\n",
        "training_images=training_images/255.0\n",
        "test_images=test_images/255.0\n",
        "\n",
        "\n",
        "\n"
      ],
      "metadata": {
        "id": "z5EZmqhB2fw3",
        "colab": {
          "base_uri": "https://localhost:8080/"
        },
        "outputId": "f5218e21-17f1-43b0-b986-c01283b9596f"
      },
      "execution_count": 3,
      "outputs": [
        {
          "output_type": "stream",
          "name": "stdout",
          "text": [
            "Downloading data from https://storage.googleapis.com/tensorflow/tf-keras-datasets/train-labels-idx1-ubyte.gz\n",
            "32768/29515 [=================================] - 0s 0us/step\n",
            "40960/29515 [=========================================] - 0s 0us/step\n",
            "Downloading data from https://storage.googleapis.com/tensorflow/tf-keras-datasets/train-images-idx3-ubyte.gz\n",
            "26427392/26421880 [==============================] - 0s 0us/step\n",
            "26435584/26421880 [==============================] - 0s 0us/step\n",
            "Downloading data from https://storage.googleapis.com/tensorflow/tf-keras-datasets/t10k-labels-idx1-ubyte.gz\n",
            "16384/5148 [===============================================================================================] - 0s 0us/step\n",
            "Downloading data from https://storage.googleapis.com/tensorflow/tf-keras-datasets/t10k-images-idx3-ubyte.gz\n",
            "4423680/4422102 [==============================] - 0s 0us/step\n",
            "4431872/4422102 [==============================] - 0s 0us/step\n"
          ]
        }
      ]
    },
    {
      "cell_type": "code",
      "source": [
        "# CLASS: myCallback\n",
        "\n",
        "# Remember to inherit from the correct class\n",
        "class myCallback(tf.keras.callbacks.Callback):\n",
        "        def on_epoch_end(self, epoch, logs={}):\n",
        "            if logs.get('loss') is not None and logs.get('loss') < 0.4:\n",
        "                print(\"\\nReached the required Loss of less than 0.4\") \n",
        "                \n",
        "                # Stop training once the below condition is met\n",
        "                self.model.stop_training = True\n",
        "\n",
        "\n"
      ],
      "metadata": {
        "id": "Dd4GBcODBtn1"
      },
      "execution_count": 22,
      "outputs": []
    },
    {
      "cell_type": "code",
      "source": [
        "def lossCallback(training_images,training_labels):\n",
        "  #Instantiate callback class\n",
        "  callbacks=myCallback()\n",
        "\n",
        "  #Model of neural network\n",
        "  model=tf.keras.models.Sequential([tf.keras.layers.Flatten(input_shape=(28,28)),\n",
        "                           tf.keras.layers.Dense(units=150,activation=tf.nn.relu),\n",
        "                           tf.keras.layers.Dense(units=10,activation=tf.nn.softmax)])\n",
        "\n",
        "  model.compile(optimizer=tf.optimizers.Adam(),loss='sparse_categorical_crossentropy',metrics=['accuracy'])\n",
        "\n",
        "\n",
        "  #Using Callback to control training\n",
        "  model.fit(training_images,training_labels,epochs=5,callbacks=[callbacks])\n",
        "\n"
      ],
      "metadata": {
        "id": "0be9omHLCAGW"
      },
      "execution_count": 23,
      "outputs": []
    },
    {
      "cell_type": "code",
      "source": [
        "working=lossCallback(training_images,training_labels)"
      ],
      "metadata": {
        "id": "zaZkUIlY-yNR",
        "colab": {
          "base_uri": "https://localhost:8080/"
        },
        "outputId": "e3a7df81-cb25-4812-ff91-c86cb6196398"
      },
      "execution_count": 24,
      "outputs": [
        {
          "output_type": "stream",
          "name": "stdout",
          "text": [
            "Epoch 1/5\n",
            "1875/1875 [==============================] - 7s 3ms/step - loss: 0.4993 - accuracy: 0.8251\n",
            "Epoch 2/5\n",
            "1869/1875 [============================>.] - ETA: 0s - loss: 0.3728 - accuracy: 0.8655\n",
            "Reached the required Loss of less than 0.4\n",
            "1875/1875 [==============================] - 6s 3ms/step - loss: 0.3728 - accuracy: 0.8654\n"
          ]
        }
      ]
    },
    {
      "cell_type": "markdown",
      "source": [
        "If you see the message `Reached the required Loss of less than 0.4` printed out after less than 3 epochs it means your callback worked as expected. "
      ],
      "metadata": {
        "id": "88N3Hr0Ank7x"
      }
    },
    {
      "cell_type": "code",
      "source": [
        ""
      ],
      "metadata": {
        "id": "keVWDfyf-xhA"
      },
      "execution_count": 7,
      "outputs": []
    }
  ]
}